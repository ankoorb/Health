{
 "cells": [
  {
   "cell_type": "code",
   "execution_count": 79,
   "metadata": {
    "collapsed": true
   },
   "outputs": [],
   "source": [
    "# special IPython command to prepare the notebook for matplotlib\n",
    "%matplotlib inline \n",
    "\n",
    "import requests \n",
    "from StringIO import StringIO\n",
    "import seaborn as sns\n",
    "import numpy as np\n",
    "import pandas as pd # pandas\n",
    "import matplotlib.pyplot as plt # module for plotting \n",
    "import datetime as dt # module for manipulating dates and times\n",
    "import numpy.linalg as lin # module for performing linear algebra operations\n",
    "\n",
    "dark2_colors = [(0.10588235294117647, 0.6196078431372549, 0.4666666666666667),\n",
    "                (0.8509803921568627, 0.37254901960784315, 0.00784313725490196),\n",
    "                (0.4588235294117647, 0.4392156862745098, 0.7019607843137254),\n",
    "                (0.9058823529411765, 0.1607843137254902, 0.5411764705882353),\n",
    "                (0.4, 0.6509803921568628, 0.11764705882352941),\n",
    "                (0.9019607843137255, 0.6705882352941176, 0.00784313725490196),\n",
    "                (0.6509803921568628, 0.4627450980392157, 0.11372549019607843),\n",
    "                (0.4, 0.4, 0.4)]"
   ]
  },
  {
   "cell_type": "markdown",
   "metadata": {},
   "source": [
    "**Analysis Based on 2014 Harvard CS109 Lecture:** http://cs109.github.io/2014/pages/lectures/lecture13-matrix-algebra.html#/22  \n",
    "\n",
    "### Research Data\n",
    "**Allelic Differences Account for Gene Expression Differences Among Population** - GEO (Gene Expression Omnibus):   http://www.ncbi.nlm.nih.gov/geo/query/acc.cgi?acc=GSE5859 \n",
    "\n",
    "- Researchers were trying to find out if there were differences in gene expression of certain genes according to ethnicity.\n",
    "- Researchers claimed 70% of genes were differentially expressed across different ethnicity."
   ]
  },
  {
   "cell_type": "markdown",
   "metadata": {},
   "source": [
    "**Information**\n",
    "\n",
    "- Gene expression is the process by which information from a gene is used in the synthesis of a functional gene products (proteins/RNA). \n",
    "\n",
    "- A DNA microarray (also commonly known as DNA chip or biochip) is a collection of microscopic DNA spots attached to a solid surface. Scientists use DNA microarrays to measure the expression levels of large numbers of genes simultaneously or to genotype multiple regions of a genome.  \n",
    "\n",
    "- *Genes are subunits of DNA*, the information database of a cell that is contained inside the cell nucleus. This DNA carries the genetic blueprint that is used to make all the proteins the cell needs. *Every gene contains a particular set of instructions that code for a specific protein*. DNA exists in the form of two long, paired strands that form a double helix. Each of these strands is made up of individual building blocks called nucleotide bases. These bases include adenine, thymine, cytosine, and guanine (A, T, C and G), which are arranged in triplets, with each triplet representing a specific amino acid.\n",
    "\n",
    "- Why humans are different than plants? - Cells have DNA, and DNA of 2 humans are very similar but very different than DNA of plants. "
   ]
  },
  {
   "cell_type": "markdown",
   "metadata": {},
   "source": [
    "Two data sets used:  \n",
    "\n",
    "1. **Gene Expression intensities:** where the rows represent the genes and the columsns represent the different microarray samples.  \n",
    "\n",
    "2. **Information about each of the samples:** sex, age, treatment status, date the samples were processed"
   ]
  },
  {
   "cell_type": "markdown",
   "metadata": {},
   "source": [
    "Read data"
   ]
  },
  {
   "cell_type": "code",
   "execution_count": 39,
   "metadata": {
    "collapsed": true
   },
   "outputs": [],
   "source": [
    "url_exprs = 'https://raw.githubusercontent.com/cs109/2014_data/master/exprs_GSE5859.csv'\n",
    "url_sampleinfo = 'https://raw.githubusercontent.com/cs109/2014_data/master/sampleinfo_GSE5859.csv'"
   ]
  },
  {
   "cell_type": "code",
   "execution_count": 40,
   "metadata": {
    "collapsed": false
   },
   "outputs": [],
   "source": [
    "exprs = pd.read_csv(url_exprs, index_col = 0) # Making 1st column as index\n",
    "sampleinfo = pd.read_csv(url_sampleinfo)"
   ]
  },
  {
   "cell_type": "code",
   "execution_count": 42,
   "metadata": {
    "collapsed": false
   },
   "outputs": [
    {
     "data": {
      "text/html": [
       "<div style=\"max-height:1000px;max-width:1500px;overflow:auto;\">\n",
       "<table border=\"1\" class=\"dataframe\">\n",
       "  <thead>\n",
       "    <tr style=\"text-align: right;\">\n",
       "      <th></th>\n",
       "      <th>GSM25581.CEL.gz</th>\n",
       "      <th>GSM25681.CEL.gz</th>\n",
       "      <th>GSM136524.CEL.gz</th>\n",
       "      <th>GSM136707.CEL.gz</th>\n",
       "      <th>GSM25553.CEL.gz</th>\n",
       "      <th>GSM136676.CEL.gz</th>\n",
       "      <th>GSM136711.CEL.gz</th>\n",
       "      <th>GSM136542.CEL.gz</th>\n",
       "      <th>GSM136535.CEL.gz</th>\n",
       "      <th>GSM25399.CEL.gz</th>\n",
       "      <th>...</th>\n",
       "      <th>GSM48650.CEL.gz</th>\n",
       "      <th>GSM25687.CEL.gz</th>\n",
       "      <th>GSM25685.CEL.gz</th>\n",
       "      <th>GSM136549.CEL.gz</th>\n",
       "      <th>GSM25427.CEL.gz</th>\n",
       "      <th>GSM25525.CEL.gz</th>\n",
       "      <th>GSM25349.CEL.gz</th>\n",
       "      <th>GSM136727.CEL.gz</th>\n",
       "      <th>GSM25626.CEL.gz</th>\n",
       "      <th>GSM136725.CEL.gz</th>\n",
       "    </tr>\n",
       "  </thead>\n",
       "  <tbody>\n",
       "    <tr>\n",
       "      <th>1007_s_at</th>\n",
       "      <td> 6.333951</td>\n",
       "      <td> 5.736190</td>\n",
       "      <td> 6.156754</td>\n",
       "      <td> 6.513010</td>\n",
       "      <td> 6.061013</td>\n",
       "      <td> 6.506493</td>\n",
       "      <td> 6.863426</td>\n",
       "      <td> 6.369645</td>\n",
       "      <td> 6.646321</td>\n",
       "      <td> 5.810930</td>\n",
       "      <td>...</td>\n",
       "      <td> 7.082636</td>\n",
       "      <td> 6.315866</td>\n",
       "      <td> 7.010165</td>\n",
       "      <td> 6.460107</td>\n",
       "      <td> 6.122355</td>\n",
       "      <td> 6.330314</td>\n",
       "      <td> 6.627014</td>\n",
       "      <td> 6.133068</td>\n",
       "      <td> 6.419444</td>\n",
       "      <td> 6.488579</td>\n",
       "    </tr>\n",
       "    <tr>\n",
       "      <th>1053_at</th>\n",
       "      <td> 7.255622</td>\n",
       "      <td> 7.399993</td>\n",
       "      <td> 7.491967</td>\n",
       "      <td> 7.006123</td>\n",
       "      <td> 7.250995</td>\n",
       "      <td> 7.082581</td>\n",
       "      <td> 6.842236</td>\n",
       "      <td> 7.048487</td>\n",
       "      <td> 7.042361</td>\n",
       "      <td> 6.666625</td>\n",
       "      <td>...</td>\n",
       "      <td> 6.599718</td>\n",
       "      <td> 7.412731</td>\n",
       "      <td> 7.274429</td>\n",
       "      <td> 6.928642</td>\n",
       "      <td> 7.168782</td>\n",
       "      <td> 7.235648</td>\n",
       "      <td> 6.939184</td>\n",
       "      <td> 7.280781</td>\n",
       "      <td> 6.351776</td>\n",
       "      <td> 7.517410</td>\n",
       "    </tr>\n",
       "  </tbody>\n",
       "</table>\n",
       "<p>2 rows × 208 columns</p>\n",
       "</div>"
      ],
      "text/plain": [
       "           GSM25581.CEL.gz  GSM25681.CEL.gz  GSM136524.CEL.gz  \\\n",
       "1007_s_at         6.333951         5.736190          6.156754   \n",
       "1053_at           7.255622         7.399993          7.491967   \n",
       "\n",
       "           GSM136707.CEL.gz  GSM25553.CEL.gz  GSM136676.CEL.gz  \\\n",
       "1007_s_at          6.513010         6.061013          6.506493   \n",
       "1053_at            7.006123         7.250995          7.082581   \n",
       "\n",
       "           GSM136711.CEL.gz  GSM136542.CEL.gz  GSM136535.CEL.gz  \\\n",
       "1007_s_at          6.863426          6.369645          6.646321   \n",
       "1053_at            6.842236          7.048487          7.042361   \n",
       "\n",
       "           GSM25399.CEL.gz       ...         GSM48650.CEL.gz  GSM25687.CEL.gz  \\\n",
       "1007_s_at         5.810930       ...                7.082636         6.315866   \n",
       "1053_at           6.666625       ...                6.599718         7.412731   \n",
       "\n",
       "           GSM25685.CEL.gz  GSM136549.CEL.gz  GSM25427.CEL.gz  \\\n",
       "1007_s_at         7.010165          6.460107         6.122355   \n",
       "1053_at           7.274429          6.928642         7.168782   \n",
       "\n",
       "           GSM25525.CEL.gz  GSM25349.CEL.gz  GSM136727.CEL.gz  \\\n",
       "1007_s_at         6.330314         6.627014          6.133068   \n",
       "1053_at           7.235648         6.939184          7.280781   \n",
       "\n",
       "           GSM25626.CEL.gz  GSM136725.CEL.gz  \n",
       "1007_s_at         6.419444          6.488579  \n",
       "1053_at           6.351776          7.517410  \n",
       "\n",
       "[2 rows x 208 columns]"
      ]
     },
     "execution_count": 42,
     "metadata": {},
     "output_type": "execute_result"
    }
   ],
   "source": [
    "exprs.head(2)"
   ]
  },
  {
   "cell_type": "code",
   "execution_count": 43,
   "metadata": {
    "collapsed": false
   },
   "outputs": [
    {
     "data": {
      "text/html": [
       "<div style=\"max-height:1000px;max-width:1500px;overflow:auto;\">\n",
       "<table border=\"1\" class=\"dataframe\">\n",
       "  <thead>\n",
       "    <tr style=\"text-align: right;\">\n",
       "      <th></th>\n",
       "      <th>ethnicity</th>\n",
       "      <th>date</th>\n",
       "      <th>filename</th>\n",
       "      <th>sex</th>\n",
       "    </tr>\n",
       "  </thead>\n",
       "  <tbody>\n",
       "    <tr>\n",
       "      <th>0</th>\n",
       "      <td> CEU</td>\n",
       "      <td> 2003-02-04</td>\n",
       "      <td> GSM25349.CEL.gz</td>\n",
       "      <td> M</td>\n",
       "    </tr>\n",
       "    <tr>\n",
       "      <th>1</th>\n",
       "      <td> CEU</td>\n",
       "      <td> 2003-02-04</td>\n",
       "      <td> GSM25350.CEL.gz</td>\n",
       "      <td> M</td>\n",
       "    </tr>\n",
       "  </tbody>\n",
       "</table>\n",
       "</div>"
      ],
      "text/plain": [
       "  ethnicity        date         filename sex\n",
       "0       CEU  2003-02-04  GSM25349.CEL.gz   M\n",
       "1       CEU  2003-02-04  GSM25350.CEL.gz   M"
      ]
     },
     "execution_count": 43,
     "metadata": {},
     "output_type": "execute_result"
    }
   ],
   "source": [
    "sampleinfo.head(2)"
   ]
  },
  {
   "cell_type": "markdown",
   "metadata": {},
   "source": [
    "Check if the order of column in gene expression DF matches the order of file names in sample annotation DF"
   ]
  },
  {
   "cell_type": "code",
   "execution_count": 44,
   "metadata": {
    "collapsed": false
   },
   "outputs": [
    {
     "name": "stdout",
     "output_type": "stream",
     "text": [
      "208\n",
      "208\n",
      "False\n"
     ]
    }
   ],
   "source": [
    "# Print column index from exprs \n",
    "print len(exprs.columns)\n",
    "# Print filename from sampleinfo\n",
    "print len(sampleinfo['filename'])\n",
    "# Print if order of columns matches the order of rows\n",
    "check = (exprs.columns == sampleinfo['filename']).all()\n",
    "print check"
   ]
  },
  {
   "cell_type": "code",
   "execution_count": 45,
   "metadata": {
    "collapsed": false
   },
   "outputs": [
    {
     "data": {
      "text/html": [
       "<div style=\"max-height:1000px;max-width:1500px;overflow:auto;\">\n",
       "<table border=\"1\" class=\"dataframe\">\n",
       "  <thead>\n",
       "    <tr style=\"text-align: right;\">\n",
       "      <th></th>\n",
       "      <th>ethnicity</th>\n",
       "      <th>date</th>\n",
       "      <th>filename</th>\n",
       "      <th>sex</th>\n",
       "    </tr>\n",
       "  </thead>\n",
       "  <tbody>\n",
       "    <tr>\n",
       "      <th>23</th>\n",
       "      <td> CEU</td>\n",
       "      <td> 2002-11-21</td>\n",
       "      <td> GSM25482.CEL.gz</td>\n",
       "      <td> F</td>\n",
       "    </tr>\n",
       "  </tbody>\n",
       "</table>\n",
       "</div>"
      ],
      "text/plain": [
       "   ethnicity        date         filename sex\n",
       "23       CEU  2002-11-21  GSM25482.CEL.gz   F"
      ]
     },
     "execution_count": 45,
     "metadata": {},
     "output_type": "execute_result"
    }
   ],
   "source": [
    "# Columns and rows are out of order, testing which colums are in order\n",
    "sampleinfo[exprs.columns == sampleinfo['filename']]"
   ]
  },
  {
   "cell_type": "code",
   "execution_count": 46,
   "metadata": {
    "collapsed": false
   },
   "outputs": [
    {
     "name": "stdout",
     "output_type": "stream",
     "text": [
      "True\n"
     ]
    }
   ],
   "source": [
    "## Reordering columns (Kind of confusing)\n",
    "a = list(exprs.columns)\n",
    "b = list(sampleinfo['filename'])\n",
    "# Get matching index by iterating through each element in b and return the index that matches\n",
    "match_index = [a.index(i) for i in b]\n",
    "exprs = exprs[match_index] # Reordering columns\n",
    "# Print if order of columns matches the order of rows\n",
    "check = (exprs.columns == sampleinfo['filename']).all()\n",
    "print check"
   ]
  },
  {
   "cell_type": "code",
   "execution_count": 47,
   "metadata": {
    "collapsed": false
   },
   "outputs": [
    {
     "data": {
      "text/html": [
       "<div style=\"max-height:1000px;max-width:1500px;overflow:auto;\">\n",
       "<table border=\"1\" class=\"dataframe\">\n",
       "  <thead>\n",
       "    <tr style=\"text-align: right;\">\n",
       "      <th></th>\n",
       "      <th>GSM25349.CEL.gz</th>\n",
       "      <th>GSM25350.CEL.gz</th>\n",
       "      <th>GSM25356.CEL.gz</th>\n",
       "      <th>GSM25357.CEL.gz</th>\n",
       "      <th>GSM25358.CEL.gz</th>\n",
       "      <th>GSM25359.CEL.gz</th>\n",
       "      <th>GSM25360.CEL.gz</th>\n",
       "      <th>GSM25361.CEL.gz</th>\n",
       "      <th>GSM25377.CEL.gz</th>\n",
       "      <th>GSM25378.CEL.gz</th>\n",
       "      <th>...</th>\n",
       "      <th>GSM136719.CEL.gz</th>\n",
       "      <th>GSM136720.CEL.gz</th>\n",
       "      <th>GSM136721.CEL.gz</th>\n",
       "      <th>GSM136722.CEL.gz</th>\n",
       "      <th>GSM136723.CEL.gz</th>\n",
       "      <th>GSM136724.CEL.gz</th>\n",
       "      <th>GSM136725.CEL.gz</th>\n",
       "      <th>GSM136726.CEL.gz</th>\n",
       "      <th>GSM136727.CEL.gz</th>\n",
       "      <th>GSM136729.CEL.gz</th>\n",
       "    </tr>\n",
       "  </thead>\n",
       "  <tbody>\n",
       "    <tr>\n",
       "      <th>1007_s_at</th>\n",
       "      <td> 6.627014</td>\n",
       "      <td> 6.249807</td>\n",
       "      <td> 5.934128</td>\n",
       "      <td> 6.145268</td>\n",
       "      <td> 6.091270</td>\n",
       "      <td> 6.041186</td>\n",
       "      <td> 6.050375</td>\n",
       "      <td> 6.063847</td>\n",
       "      <td> 6.226106</td>\n",
       "      <td> 6.358282</td>\n",
       "      <td>...</td>\n",
       "      <td> 6.466445</td>\n",
       "      <td> 6.533592</td>\n",
       "      <td> 6.631492</td>\n",
       "      <td> 6.513362</td>\n",
       "      <td> 6.440706</td>\n",
       "      <td> 6.704324</td>\n",
       "      <td> 6.488579</td>\n",
       "      <td> 6.809481</td>\n",
       "      <td> 6.133068</td>\n",
       "      <td> 6.155473</td>\n",
       "    </tr>\n",
       "    <tr>\n",
       "      <th>1053_at</th>\n",
       "      <td> 6.939184</td>\n",
       "      <td> 6.818038</td>\n",
       "      <td> 7.047962</td>\n",
       "      <td> 7.422477</td>\n",
       "      <td> 7.272361</td>\n",
       "      <td> 7.128216</td>\n",
       "      <td> 6.750719</td>\n",
       "      <td> 6.836287</td>\n",
       "      <td> 6.738022</td>\n",
       "      <td> 7.367895</td>\n",
       "      <td>...</td>\n",
       "      <td> 7.032885</td>\n",
       "      <td> 7.156344</td>\n",
       "      <td> 7.018025</td>\n",
       "      <td> 6.973322</td>\n",
       "      <td> 6.884738</td>\n",
       "      <td> 7.120898</td>\n",
       "      <td> 7.517410</td>\n",
       "      <td> 7.200596</td>\n",
       "      <td> 7.280781</td>\n",
       "      <td> 7.111583</td>\n",
       "    </tr>\n",
       "  </tbody>\n",
       "</table>\n",
       "<p>2 rows × 208 columns</p>\n",
       "</div>"
      ],
      "text/plain": [
       "           GSM25349.CEL.gz  GSM25350.CEL.gz  GSM25356.CEL.gz  GSM25357.CEL.gz  \\\n",
       "1007_s_at         6.627014         6.249807         5.934128         6.145268   \n",
       "1053_at           6.939184         6.818038         7.047962         7.422477   \n",
       "\n",
       "           GSM25358.CEL.gz  GSM25359.CEL.gz  GSM25360.CEL.gz  GSM25361.CEL.gz  \\\n",
       "1007_s_at         6.091270         6.041186         6.050375         6.063847   \n",
       "1053_at           7.272361         7.128216         6.750719         6.836287   \n",
       "\n",
       "           GSM25377.CEL.gz  GSM25378.CEL.gz       ...         \\\n",
       "1007_s_at         6.226106         6.358282       ...          \n",
       "1053_at           6.738022         7.367895       ...          \n",
       "\n",
       "           GSM136719.CEL.gz  GSM136720.CEL.gz  GSM136721.CEL.gz  \\\n",
       "1007_s_at          6.466445          6.533592          6.631492   \n",
       "1053_at            7.032885          7.156344          7.018025   \n",
       "\n",
       "           GSM136722.CEL.gz  GSM136723.CEL.gz  GSM136724.CEL.gz  \\\n",
       "1007_s_at          6.513362          6.440706          6.704324   \n",
       "1053_at            6.973322          6.884738          7.120898   \n",
       "\n",
       "           GSM136725.CEL.gz  GSM136726.CEL.gz  GSM136727.CEL.gz  \\\n",
       "1007_s_at          6.488579          6.809481          6.133068   \n",
       "1053_at            7.517410          7.200596          7.280781   \n",
       "\n",
       "           GSM136729.CEL.gz  \n",
       "1007_s_at          6.155473  \n",
       "1053_at            7.111583  \n",
       "\n",
       "[2 rows x 208 columns]"
      ]
     },
     "execution_count": 47,
     "metadata": {},
     "output_type": "execute_result"
    }
   ],
   "source": [
    "exprs.head(2)"
   ]
  },
  {
   "cell_type": "code",
   "execution_count": 48,
   "metadata": {
    "collapsed": false
   },
   "outputs": [
    {
     "data": {
      "text/html": [
       "<div style=\"max-height:1000px;max-width:1500px;overflow:auto;\">\n",
       "<table border=\"1\" class=\"dataframe\">\n",
       "  <thead>\n",
       "    <tr style=\"text-align: right;\">\n",
       "      <th></th>\n",
       "      <th>ethnicity</th>\n",
       "      <th>date</th>\n",
       "      <th>filename</th>\n",
       "      <th>sex</th>\n",
       "    </tr>\n",
       "  </thead>\n",
       "  <tbody>\n",
       "    <tr>\n",
       "      <th>0</th>\n",
       "      <td> CEU</td>\n",
       "      <td> 2003-02-04</td>\n",
       "      <td> GSM25349.CEL.gz</td>\n",
       "      <td> M</td>\n",
       "    </tr>\n",
       "    <tr>\n",
       "      <th>1</th>\n",
       "      <td> CEU</td>\n",
       "      <td> 2003-02-04</td>\n",
       "      <td> GSM25350.CEL.gz</td>\n",
       "      <td> M</td>\n",
       "    </tr>\n",
       "  </tbody>\n",
       "</table>\n",
       "</div>"
      ],
      "text/plain": [
       "  ethnicity        date         filename sex\n",
       "0       CEU  2003-02-04  GSM25349.CEL.gz   M\n",
       "1       CEU  2003-02-04  GSM25350.CEL.gz   M"
      ]
     },
     "execution_count": 48,
     "metadata": {},
     "output_type": "execute_result"
    }
   ],
   "source": [
    "sampleinfo.head(2)"
   ]
  },
  {
   "cell_type": "code",
   "execution_count": 56,
   "metadata": {
    "collapsed": false
   },
   "outputs": [
    {
     "name": "stdout",
     "output_type": "stream",
     "text": [
      "(8793, 208)\n",
      "(208, 7)\n",
      "Number of genes: 8793\n",
      "Number of samples: 208\n"
     ]
    }
   ],
   "source": [
    "print exprs.shape\n",
    "print sampleinfo.shape\n",
    "print 'Number of genes: %d' % exprs.shape[0]\n",
    "print 'Number of samples: %d' % exprs.shape[1]"
   ]
  },
  {
   "cell_type": "code",
   "execution_count": 50,
   "metadata": {
    "collapsed": false
   },
   "outputs": [
    {
     "name": "stdout",
     "output_type": "stream",
     "text": [
      "2003\n",
      "2\n",
      "4\n"
     ]
    }
   ],
   "source": [
    "sampleinfo['date'] = pd.to_datetime(sampleinfo['date'])\n",
    "# Extracting year, month, day\n",
    "print sampleinfo['date'][0].year \n",
    "print sampleinfo['date'][0].month\n",
    "print sampleinfo['date'][0].day"
   ]
  },
  {
   "cell_type": "code",
   "execution_count": 52,
   "metadata": {
    "collapsed": false
   },
   "outputs": [
    {
     "data": {
      "text/html": [
       "<div style=\"max-height:1000px;max-width:1500px;overflow:auto;\">\n",
       "<table border=\"1\" class=\"dataframe\">\n",
       "  <thead>\n",
       "    <tr style=\"text-align: right;\">\n",
       "      <th></th>\n",
       "      <th>ethnicity</th>\n",
       "      <th>date</th>\n",
       "      <th>filename</th>\n",
       "      <th>sex</th>\n",
       "      <th>month</th>\n",
       "      <th>day</th>\n",
       "      <th>year</th>\n",
       "    </tr>\n",
       "  </thead>\n",
       "  <tbody>\n",
       "    <tr>\n",
       "      <th>0</th>\n",
       "      <td> CEU</td>\n",
       "      <td>2003-02-04</td>\n",
       "      <td> GSM25349.CEL.gz</td>\n",
       "      <td> M</td>\n",
       "      <td> 2</td>\n",
       "      <td> 4</td>\n",
       "      <td> 2003</td>\n",
       "    </tr>\n",
       "    <tr>\n",
       "      <th>1</th>\n",
       "      <td> CEU</td>\n",
       "      <td>2003-02-04</td>\n",
       "      <td> GSM25350.CEL.gz</td>\n",
       "      <td> M</td>\n",
       "      <td> 2</td>\n",
       "      <td> 4</td>\n",
       "      <td> 2003</td>\n",
       "    </tr>\n",
       "  </tbody>\n",
       "</table>\n",
       "</div>"
      ],
      "text/plain": [
       "  ethnicity       date         filename sex  month  day  year\n",
       "0       CEU 2003-02-04  GSM25349.CEL.gz   M      2    4  2003\n",
       "1       CEU 2003-02-04  GSM25350.CEL.gz   M      2    4  2003"
      ]
     },
     "execution_count": 52,
     "metadata": {},
     "output_type": "execute_result"
    }
   ],
   "source": [
    "# map(function, sequence[, sequence, ...]) -> list\n",
    "sampleinfo['month'] = map(lambda x: x.month, sampleinfo['date'])\n",
    "sampleinfo['day'] = map(lambda x: x.day, sampleinfo['date'])\n",
    "sampleinfo['year'] = map(lambda x: x.year, sampleinfo['date'])\n",
    "sampleinfo.head(2)"
   ]
  },
  {
   "cell_type": "markdown",
   "metadata": {},
   "source": [
    "**Gene Expression Intensity** \n",
    "\n",
    "Matrix Cell $(i, j)$ = How much message of Gene $i$ is in sample $j$ \n",
    "\n",
    "Normalize Gene Expression Data: Subtract the average gene expression intensity from each of the samples. "
   ]
  },
  {
   "cell_type": "code",
   "execution_count": 53,
   "metadata": {
    "collapsed": false
   },
   "outputs": [
    {
     "data": {
      "text/html": [
       "<div style=\"max-height:1000px;max-width:1500px;overflow:auto;\">\n",
       "<table border=\"1\" class=\"dataframe\">\n",
       "  <thead>\n",
       "    <tr style=\"text-align: right;\">\n",
       "      <th></th>\n",
       "      <th>GSM25349.CEL.gz</th>\n",
       "      <th>GSM25350.CEL.gz</th>\n",
       "      <th>GSM25356.CEL.gz</th>\n",
       "      <th>GSM25357.CEL.gz</th>\n",
       "      <th>GSM25358.CEL.gz</th>\n",
       "      <th>GSM25359.CEL.gz</th>\n",
       "      <th>GSM25360.CEL.gz</th>\n",
       "      <th>GSM25361.CEL.gz</th>\n",
       "      <th>GSM25377.CEL.gz</th>\n",
       "      <th>GSM25378.CEL.gz</th>\n",
       "      <th>...</th>\n",
       "      <th>GSM136719.CEL.gz</th>\n",
       "      <th>GSM136720.CEL.gz</th>\n",
       "      <th>GSM136721.CEL.gz</th>\n",
       "      <th>GSM136722.CEL.gz</th>\n",
       "      <th>GSM136723.CEL.gz</th>\n",
       "      <th>GSM136724.CEL.gz</th>\n",
       "      <th>GSM136725.CEL.gz</th>\n",
       "      <th>GSM136726.CEL.gz</th>\n",
       "      <th>GSM136727.CEL.gz</th>\n",
       "      <th>GSM136729.CEL.gz</th>\n",
       "    </tr>\n",
       "  </thead>\n",
       "  <tbody>\n",
       "    <tr>\n",
       "      <th>1007_s_at</th>\n",
       "      <td> 0.243751</td>\n",
       "      <td>-0.133457</td>\n",
       "      <td>-0.449135</td>\n",
       "      <td>-0.237995</td>\n",
       "      <td>-0.291993</td>\n",
       "      <td>-0.342077</td>\n",
       "      <td>-0.332888</td>\n",
       "      <td>-0.319417</td>\n",
       "      <td>-0.157157</td>\n",
       "      <td>-0.024981</td>\n",
       "      <td>...</td>\n",
       "      <td> 0.083182</td>\n",
       "      <td> 0.150329</td>\n",
       "      <td> 0.248229</td>\n",
       "      <td> 0.130099</td>\n",
       "      <td> 0.057442</td>\n",
       "      <td> 0.321061</td>\n",
       "      <td> 0.105316</td>\n",
       "      <td> 0.426218</td>\n",
       "      <td>-0.250195</td>\n",
       "      <td>-0.227791</td>\n",
       "    </tr>\n",
       "    <tr>\n",
       "      <th>1053_at</th>\n",
       "      <td>-0.152446</td>\n",
       "      <td>-0.273592</td>\n",
       "      <td>-0.043668</td>\n",
       "      <td> 0.330846</td>\n",
       "      <td> 0.180731</td>\n",
       "      <td> 0.036586</td>\n",
       "      <td>-0.340911</td>\n",
       "      <td>-0.255344</td>\n",
       "      <td>-0.353609</td>\n",
       "      <td> 0.276264</td>\n",
       "      <td>...</td>\n",
       "      <td>-0.058746</td>\n",
       "      <td> 0.064714</td>\n",
       "      <td>-0.073605</td>\n",
       "      <td>-0.118309</td>\n",
       "      <td>-0.206893</td>\n",
       "      <td> 0.029268</td>\n",
       "      <td> 0.425779</td>\n",
       "      <td> 0.108966</td>\n",
       "      <td> 0.189150</td>\n",
       "      <td> 0.019952</td>\n",
       "    </tr>\n",
       "  </tbody>\n",
       "</table>\n",
       "<p>2 rows × 208 columns</p>\n",
       "</div>"
      ],
      "text/plain": [
       "           GSM25349.CEL.gz  GSM25350.CEL.gz  GSM25356.CEL.gz  GSM25357.CEL.gz  \\\n",
       "1007_s_at         0.243751        -0.133457        -0.449135        -0.237995   \n",
       "1053_at          -0.152446        -0.273592        -0.043668         0.330846   \n",
       "\n",
       "           GSM25358.CEL.gz  GSM25359.CEL.gz  GSM25360.CEL.gz  GSM25361.CEL.gz  \\\n",
       "1007_s_at        -0.291993        -0.342077        -0.332888        -0.319417   \n",
       "1053_at           0.180731         0.036586        -0.340911        -0.255344   \n",
       "\n",
       "           GSM25377.CEL.gz  GSM25378.CEL.gz       ...         \\\n",
       "1007_s_at        -0.157157        -0.024981       ...          \n",
       "1053_at          -0.353609         0.276264       ...          \n",
       "\n",
       "           GSM136719.CEL.gz  GSM136720.CEL.gz  GSM136721.CEL.gz  \\\n",
       "1007_s_at          0.083182          0.150329          0.248229   \n",
       "1053_at           -0.058746          0.064714         -0.073605   \n",
       "\n",
       "           GSM136722.CEL.gz  GSM136723.CEL.gz  GSM136724.CEL.gz  \\\n",
       "1007_s_at          0.130099          0.057442          0.321061   \n",
       "1053_at           -0.118309         -0.206893          0.029268   \n",
       "\n",
       "           GSM136725.CEL.gz  GSM136726.CEL.gz  GSM136727.CEL.gz  \\\n",
       "1007_s_at          0.105316          0.426218         -0.250195   \n",
       "1053_at            0.425779          0.108966          0.189150   \n",
       "\n",
       "           GSM136729.CEL.gz  \n",
       "1007_s_at         -0.227791  \n",
       "1053_at            0.019952  \n",
       "\n",
       "[2 rows x 208 columns]"
      ]
     },
     "execution_count": 53,
     "metadata": {},
     "output_type": "execute_result"
    }
   ],
   "source": [
    "data = exprs.apply(lambda x: x - exprs.mean(axis=1), axis = 0)\n",
    "data.head(2)"
   ]
  },
  {
   "cell_type": "markdown",
   "metadata": {},
   "source": [
    "Singular Value Decomposition (SVD)\n",
    "===\n",
    "- Method for transforming correlated variables into a set of uncorrelated variables that better explain the various relationships among the original data\n",
    "- Method for identifying and ordering the dimensions along which data points exihibit the most variation\n",
    "- Dimensionality reduction - Best approximation of the original data using fewer dimensions\n",
    "\n",
    "Theorem: A rectangular matrix A can be broken down into the product of three matrices - an orthogonal matrix U, a diagonal matrix D, and transpose of an orthogonal matrix V. (Orthogonal - 0 correlation between columns or columns are independent of each other)\n",
    "\n",
    "We have a data matrix with $N$ observations (rows) and $p$ columns. \n",
    "\n",
    "We can write our data matrix as\n",
    "\n",
    "$$X = U D V^\\top , \\mbox{ with } $$\n",
    "* $U$ is $N\\times p$ with  $U^\\top U=I$\n",
    "* $V$ is $p\\times p$ with $V^\\top V=I$ and\n",
    "* $D$ is $p \\times p$ diagonal matrix - *Entries of $D$ explain variability*\n",
    "\n",
    "We are changing basis: $XV = UD$ \n",
    "\n",
    "And can change back $XVV^\\top = X$"
   ]
  },
  {
   "cell_type": "code",
   "execution_count": 68,
   "metadata": {
    "collapsed": false
   },
   "outputs": [
    {
     "name": "stdout",
     "output_type": "stream",
     "text": [
      "(208, 8793)\n"
     ]
    }
   ],
   "source": [
    "X = data.T\n",
    "print X.shape"
   ]
  },
  {
   "cell_type": "code",
   "execution_count": 69,
   "metadata": {
    "collapsed": false
   },
   "outputs": [],
   "source": [
    "#Singular Value Decomposition\n",
    "#U are the left singular vectors\n",
    "#d are the singular values\n",
    "#U*d gives PCA scores\n",
    "#V are the right singular vectors -- PCA loadings\n",
    "U, d, Vh = np.linalg.svd(X)"
   ]
  },
  {
   "cell_type": "code",
   "execution_count": 70,
   "metadata": {
    "collapsed": false
   },
   "outputs": [
    {
     "name": "stdout",
     "output_type": "stream",
     "text": [
      "(208, 208) (208,) (8793, 8793)\n"
     ]
    }
   ],
   "source": [
    "print U.shape, d.shape, Vh.shape"
   ]
  },
  {
   "cell_type": "code",
   "execution_count": 82,
   "metadata": {
    "collapsed": false
   },
   "outputs": [
    {
     "name": "stdout",
     "output_type": "stream",
     "text": [
      "The first component explains 21.85% of the variance.\n",
      "The second component explains 9.92% of the variance.\n"
     ]
    }
   ],
   "source": [
    "#d^2 is proportional to the variance explained by the dimension\n",
    "#For variance explained, normalize d^2\n",
    "\n",
    "var_exp = d**2/sum(d**2)\n",
    "\n",
    "print \"The first component explains %0.2f%% of the variance.\"%(var_exp[0]*100)\n",
    "print \"The second component explains %0.2f%% of the variance.\"%(var_exp[1]*100)"
   ]
  },
  {
   "cell_type": "code",
   "execution_count": 112,
   "metadata": {
    "collapsed": false
   },
   "outputs": [
    {
     "data": {
      "image/png": "[encoded data removed]",
      "text/plain": [
       "<matplotlib.figure.Figure at 0x1128ddb90>"
      ]
     },
     "metadata": {},
     "output_type": "display_data"
    }
   ],
   "source": [
    "plt.figure(figsize = (16, 8))\n",
    "plt.scatter(range(1,len(d)+1), d**2/np.sum(d**2), s = 50)\n",
    "plt.xlabel(\"Dimension\", fontsize = 16)\n",
    "plt.ylabel(\"Percent explained\", fontsize = 16)\n",
    "plt.xlim(0, 210)\n",
    "plt.ylim(0,0.25)\n",
    "plt.tick_params(axis = 'both', which = 'major', labelsize = 14)\n",
    "\n",
    "plt.show()"
   ]
  },
  {
   "cell_type": "markdown",
   "metadata": {},
   "source": [
    "Ethnicity: Categorical to integer"
   ]
  },
  {
   "cell_type": "code",
   "execution_count": 101,
   "metadata": {
    "collapsed": false
   },
   "outputs": [
    {
     "data": {
      "text/html": [
       "<div style=\"max-height:1000px;max-width:1500px;overflow:auto;\">\n",
       "<table border=\"1\" class=\"dataframe\">\n",
       "  <thead>\n",
       "    <tr style=\"text-align: right;\">\n",
       "      <th></th>\n",
       "      <th>ethnicity</th>\n",
       "      <th>date</th>\n",
       "      <th>filename</th>\n",
       "      <th>sex</th>\n",
       "      <th>month</th>\n",
       "      <th>day</th>\n",
       "      <th>year</th>\n",
       "      <th>ethnicity_code</th>\n",
       "    </tr>\n",
       "  </thead>\n",
       "  <tbody>\n",
       "    <tr>\n",
       "      <th>0</th>\n",
       "      <td> CEU</td>\n",
       "      <td>2003-02-04</td>\n",
       "      <td> GSM25349.CEL.gz</td>\n",
       "      <td> M</td>\n",
       "      <td> 2</td>\n",
       "      <td> 4</td>\n",
       "      <td> 2003</td>\n",
       "      <td> 1</td>\n",
       "    </tr>\n",
       "    <tr>\n",
       "      <th>1</th>\n",
       "      <td> CEU</td>\n",
       "      <td>2003-02-04</td>\n",
       "      <td> GSM25350.CEL.gz</td>\n",
       "      <td> M</td>\n",
       "      <td> 2</td>\n",
       "      <td> 4</td>\n",
       "      <td> 2003</td>\n",
       "      <td> 1</td>\n",
       "    </tr>\n",
       "  </tbody>\n",
       "</table>\n",
       "</div>"
      ],
      "text/plain": [
       "  ethnicity       date         filename sex  month  day  year  ethnicity_code\n",
       "0       CEU 2003-02-04  GSM25349.CEL.gz   M      2    4  2003               1\n",
       "1       CEU 2003-02-04  GSM25350.CEL.gz   M      2    4  2003               1"
      ]
     },
     "execution_count": 101,
     "metadata": {},
     "output_type": "execute_result"
    }
   ],
   "source": [
    "temp = pd.Categorical.from_array(sampleinfo['ethnicity'])\n",
    "sampleinfo['ethnicity_code'] = temp.labels\n",
    "sampleinfo.head(2)"
   ]
  },
  {
   "cell_type": "code",
   "execution_count": 115,
   "metadata": {
    "collapsed": false
   },
   "outputs": [
    {
     "data": {
      "text/plain": [
       "<function matplotlib.pyplot.legend>"
      ]
     },
     "execution_count": 115,
     "metadata": {},
     "output_type": "execute_result"
    },
    {
     "data": {
      "image/png": "[encoded data removed]",
      "text/plain": [
       "<matplotlib.figure.Figure at 0x1126b3b10>"
      ]
     },
     "metadata": {},
     "output_type": "display_data"
    }
   ],
   "source": [
    "plt.figure(figsize = (16, 8))\n",
    "plt.tick_params(axis = 'both', which = 'major', labelsize = 14)\n",
    "plt.xlabel(\"Principal Component-1\", fontsize = 16)\n",
    "plt.ylabel(\"Principal Component-2\", fontsize = 16)\n",
    "colors = [dark2_colors[i] for i in sampleinfo['ethnicity_code']]\n",
    "plt.scatter(U[:,0], U[:,1], color = colors, s = 50)"
   ]
  },
  {
   "cell_type": "markdown",
   "metadata": {},
   "source": [
    "Sex: Categorical to integer"
   ]
  },
  {
   "cell_type": "code",
   "execution_count": 107,
   "metadata": {
    "collapsed": false
   },
   "outputs": [
    {
     "data": {
      "text/html": [
       "<div style=\"max-height:1000px;max-width:1500px;overflow:auto;\">\n",
       "<table border=\"1\" class=\"dataframe\">\n",
       "  <thead>\n",
       "    <tr style=\"text-align: right;\">\n",
       "      <th></th>\n",
       "      <th>ethnicity</th>\n",
       "      <th>date</th>\n",
       "      <th>filename</th>\n",
       "      <th>sex</th>\n",
       "      <th>month</th>\n",
       "      <th>day</th>\n",
       "      <th>year</th>\n",
       "      <th>ethnicity_code</th>\n",
       "      <th>sex_code</th>\n",
       "    </tr>\n",
       "  </thead>\n",
       "  <tbody>\n",
       "    <tr>\n",
       "      <th>0</th>\n",
       "      <td> CEU</td>\n",
       "      <td>2003-02-04</td>\n",
       "      <td> GSM25349.CEL.gz</td>\n",
       "      <td> M</td>\n",
       "      <td> 2</td>\n",
       "      <td> 4</td>\n",
       "      <td> 2003</td>\n",
       "      <td> 1</td>\n",
       "      <td> 1</td>\n",
       "    </tr>\n",
       "    <tr>\n",
       "      <th>1</th>\n",
       "      <td> CEU</td>\n",
       "      <td>2003-02-04</td>\n",
       "      <td> GSM25350.CEL.gz</td>\n",
       "      <td> M</td>\n",
       "      <td> 2</td>\n",
       "      <td> 4</td>\n",
       "      <td> 2003</td>\n",
       "      <td> 1</td>\n",
       "      <td> 1</td>\n",
       "    </tr>\n",
       "  </tbody>\n",
       "</table>\n",
       "</div>"
      ],
      "text/plain": [
       "  ethnicity       date         filename sex  month  day  year  ethnicity_code  \\\n",
       "0       CEU 2003-02-04  GSM25349.CEL.gz   M      2    4  2003               1   \n",
       "1       CEU 2003-02-04  GSM25350.CEL.gz   M      2    4  2003               1   \n",
       "\n",
       "   sex_code  \n",
       "0         1  \n",
       "1         1  "
      ]
     },
     "execution_count": 107,
     "metadata": {},
     "output_type": "execute_result"
    }
   ],
   "source": [
    "temp = pd.Categorical.from_array(sampleinfo['sex'])\n",
    "sampleinfo['sex_code'] = temp.labels\n",
    "sampleinfo.head(2)"
   ]
  },
  {
   "cell_type": "code",
   "execution_count": 117,
   "metadata": {
    "collapsed": false
   },
   "outputs": [
    {
     "data": {
      "text/plain": [
       "<matplotlib.collections.PathCollection at 0x115dc2050>"
      ]
     },
     "execution_count": 117,
     "metadata": {},
     "output_type": "execute_result"
    },
    {
     "data": {
      "image/png": "[encoded data removed]",
      "text/plain": [
       "<matplotlib.figure.Figure at 0x1128066d0>"
      ]
     },
     "metadata": {},
     "output_type": "display_data"
    }
   ],
   "source": [
    "plt.figure(figsize = (16, 8))\n",
    "plt.tick_params(axis = 'both', which = 'major', labelsize = 14)\n",
    "plt.xlabel(\"Principal Component-1\", fontsize = 16)\n",
    "plt.ylabel(\"Principal Component-2\", fontsize = 16)\n",
    "colors = [dark2_colors[i] for i in sampleinfo['sex_code']]\n",
    "plt.scatter(U[:,0], U[:,1], color = colors, s = 50)"
   ]
  },
  {
   "cell_type": "code",
   "execution_count": null,
   "metadata": {
    "collapsed": true
   },
   "outputs": [],
   "source": []
  }
 ],
 "metadata": {
  "kernelspec": {
   "display_name": "Python 2",
   "language": "python",
   "name": "python2"
  },
  "language_info": {
   "codemirror_mode": {
    "name": "ipython",
    "version": 2
   },
   "file_extension": ".py",
   "mimetype": "text/x-python",
   "name": "python",
   "nbconvert_exporter": "python",
   "pygments_lexer": "ipython2",
   "version": "2.7.10"
  }
 },
 "nbformat": 4,
 "nbformat_minor": 0
}
